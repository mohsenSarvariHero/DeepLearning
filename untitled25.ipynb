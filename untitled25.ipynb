{
  "nbformat": 4,
  "nbformat_minor": 0,
  "metadata": {
    "colab": {
      "provenance": [],
      "gpuType": "T4",
      "authorship_tag": "ABX9TyPbsZ+q1jykBMWfxwSpXobs",
      "include_colab_link": true
    },
    "kernelspec": {
      "name": "python3",
      "display_name": "Python 3"
    },
    "language_info": {
      "name": "python"
    },
    "accelerator": "GPU"
  },
  "cells": [
    {
      "cell_type": "markdown",
      "metadata": {
        "id": "view-in-github",
        "colab_type": "text"
      },
      "source": [
        "<a href=\"https://colab.research.google.com/github/mohsenSarvariHero/DeepLearning/blob/main/untitled25.ipynb\" target=\"_parent\"><img src=\"https://colab.research.google.com/assets/colab-badge.svg\" alt=\"Open In Colab\"/></a>"
      ]
    },
    {
      "cell_type": "code",
      "execution_count": null,
      "metadata": {
        "id": "6Q_N-JqJ6Ttx",
        "colab": {
          "base_uri": "https://localhost:8080/"
        },
        "outputId": "ad0ede86-6663-4c61-f568-415135edc764"
      },
      "outputs": [
        {
          "output_type": "stream",
          "name": "stdout",
          "text": [
            "tensor([1, 2, 3])\n"
          ]
        }
      ],
      "source": [
        "import torch\n",
        "tensor = torch.tensor([1,2,3])\n",
        "print(tensor)"
      ]
    },
    {
      "cell_type": "code",
      "source": [
        "print(tensor,\"*\",tensor)\n",
        "print(f\"is equal : {tensor*tensor}\")"
      ],
      "metadata": {
        "colab": {
          "base_uri": "https://localhost:8080/"
        },
        "id": "rLT98-zJRt-z",
        "outputId": "cd9b68db-b521-41f1-91e5-2fc51b893109"
      },
      "execution_count": null,
      "outputs": [
        {
          "output_type": "stream",
          "name": "stdout",
          "text": [
            "tensor([1, 2, 3]) * tensor([1, 2, 3])\n",
            "is equal : tensor([1, 4, 9])\n"
          ]
        }
      ]
    },
    {
      "cell_type": "markdown",
      "source": [],
      "metadata": {
        "id": "9BNYK_ChRxNG"
      }
    },
    {
      "cell_type": "code",
      "source": [
        "torch.matmul(tensor,tensor)"
      ],
      "metadata": {
        "id": "09vk4Mic683X",
        "colab": {
          "base_uri": "https://localhost:8080/"
        },
        "outputId": "5a62dc8d-0066-4db8-e9ff-2c87033e2e46"
      },
      "execution_count": null,
      "outputs": [
        {
          "output_type": "execute_result",
          "data": {
            "text/plain": [
              "tensor(14)"
            ]
          },
          "metadata": {},
          "execution_count": 4
        }
      ]
    },
    {
      "cell_type": "code",
      "source": [
        "value = 0\n",
        "for i in range(len(tensor)):\n",
        "  value += tensor[i] * tensor[i]\n",
        "\n",
        "print(value)"
      ],
      "metadata": {
        "colab": {
          "base_uri": "https://localhost:8080/"
        },
        "id": "tpc1QkK3TGcc",
        "outputId": "fe0a8f3d-06fc-4fcd-f0aa-2b56ed3b5db1"
      },
      "execution_count": null,
      "outputs": [
        {
          "output_type": "stream",
          "name": "stdout",
          "text": [
            "tensor(14)\n"
          ]
        }
      ]
    },
    {
      "cell_type": "code",
      "source": [
        "torch.matmul(torch.rand(2,3) , torch.rand(3,2))"
      ],
      "metadata": {
        "colab": {
          "base_uri": "https://localhost:8080/"
        },
        "id": "_aPnNTnMXIDh",
        "outputId": "15ba736b-4cf2-4adb-ce8f-6a8bf8b3932a"
      },
      "execution_count": null,
      "outputs": [
        {
          "output_type": "execute_result",
          "data": {
            "text/plain": [
              "tensor([[0.4306, 0.5749],\n",
              "        [1.1034, 1.3497]])"
            ]
          },
          "metadata": {},
          "execution_count": 6
        }
      ]
    },
    {
      "cell_type": "code",
      "source": [
        "torch.matmul(torch.rand(2,3) , torch.rand(4,2))"
      ],
      "metadata": {
        "colab": {
          "base_uri": "https://localhost:8080/",
          "height": 141
        },
        "id": "f_F_6jfBXRel",
        "outputId": "1265f70a-af2e-4159-9831-a4d76c5ddc75"
      },
      "execution_count": null,
      "outputs": [
        {
          "output_type": "error",
          "ename": "RuntimeError",
          "evalue": "mat1 and mat2 shapes cannot be multiplied (2x3 and 4x2)",
          "traceback": [
            "\u001b[0;31m---------------------------------------------------------------------------\u001b[0m",
            "\u001b[0;31mRuntimeError\u001b[0m                              Traceback (most recent call last)",
            "\u001b[0;32m<ipython-input-7-b2a31f282d6e>\u001b[0m in \u001b[0;36m<cell line: 1>\u001b[0;34m()\u001b[0m\n\u001b[0;32m----> 1\u001b[0;31m \u001b[0mtorch\u001b[0m\u001b[0;34m.\u001b[0m\u001b[0mmatmul\u001b[0m\u001b[0;34m(\u001b[0m\u001b[0mtorch\u001b[0m\u001b[0;34m.\u001b[0m\u001b[0mrand\u001b[0m\u001b[0;34m(\u001b[0m\u001b[0;36m2\u001b[0m\u001b[0;34m,\u001b[0m\u001b[0;36m3\u001b[0m\u001b[0;34m)\u001b[0m \u001b[0;34m,\u001b[0m \u001b[0mtorch\u001b[0m\u001b[0;34m.\u001b[0m\u001b[0mrand\u001b[0m\u001b[0;34m(\u001b[0m\u001b[0;36m4\u001b[0m\u001b[0;34m,\u001b[0m\u001b[0;36m2\u001b[0m\u001b[0;34m)\u001b[0m\u001b[0;34m)\u001b[0m\u001b[0;34m\u001b[0m\u001b[0;34m\u001b[0m\u001b[0m\n\u001b[0m",
            "\u001b[0;31mRuntimeError\u001b[0m: mat1 and mat2 shapes cannot be multiplied (2x3 and 4x2)"
          ]
        }
      ]
    },
    {
      "cell_type": "code",
      "source": [
        "tensor_A = torch.tensor([[1,2],[3,5],[6,3]])\n",
        "tensor_B = torch.tensor([[2,6],[4,3]])\n",
        "print(tensor_A.shape , tensor_B.shape)\n",
        "torch.matmul(tensor_A , tensor_B)"
      ],
      "metadata": {
        "colab": {
          "base_uri": "https://localhost:8080/"
        },
        "id": "OacNFUkeZUMM",
        "outputId": "999f7679-cada-4fad-9693-3ba944e2f088"
      },
      "execution_count": null,
      "outputs": [
        {
          "output_type": "stream",
          "name": "stdout",
          "text": [
            "torch.Size([3, 2]) torch.Size([2, 2])\n"
          ]
        },
        {
          "output_type": "execute_result",
          "data": {
            "text/plain": [
              "tensor([[10, 12],\n",
              "        [26, 33],\n",
              "        [24, 45]])"
            ]
          },
          "metadata": {},
          "execution_count": 8
        }
      ]
    },
    {
      "cell_type": "code",
      "source": [
        "tensorF = torch.tensor([[1,3],[4,5],[6,4]])\n",
        "tensorS = torch.tensor([[5,3],[2,5],[7,4]])\n",
        "print(f\"tensorF the shape is : {tensorF.shape} and the tensoreS the shape is : {tensorS.shape}\")\n",
        "print(f\"the matrix multiplier is {tensorF} @ {tensorS.T} : \")\n",
        "print(f\"the shape is {tensorF.shape} @ {tensorS.T.shape} : \")\n",
        "print(f\"the result is {tensorF.shape} @ {tensorS.T.shape} : \")\n",
        "torch.matmul(tensorF , tensorS.T)"
      ],
      "metadata": {
        "colab": {
          "base_uri": "https://localhost:8080/"
        },
        "id": "7bLzKEFIb64B",
        "outputId": "8b6cbe10-9239-4c24-8299-dcaa8bbcde70"
      },
      "execution_count": null,
      "outputs": [
        {
          "output_type": "stream",
          "name": "stdout",
          "text": [
            "tensorF the shape is : torch.Size([3, 2]) and the tensoreS the shape is : torch.Size([3, 2])\n",
            "the matrix multiplier is tensor([[1, 3],\n",
            "        [4, 5],\n",
            "        [6, 4]]) @ tensor([[5, 2, 7],\n",
            "        [3, 5, 4]]) : \n",
            "the shape is torch.Size([3, 2]) @ torch.Size([2, 3]) : \n",
            "the result is torch.Size([3, 2]) @ torch.Size([2, 3]) : \n"
          ]
        },
        {
          "output_type": "execute_result",
          "data": {
            "text/plain": [
              "tensor([[14, 17, 19],\n",
              "        [35, 33, 48],\n",
              "        [42, 32, 58]])"
            ]
          },
          "metadata": {},
          "execution_count": 9
        }
      ]
    },
    {
      "cell_type": "code",
      "source": [
        " x = torch.arange(0,100,10)\n",
        " print(x)"
      ],
      "metadata": {
        "colab": {
          "base_uri": "https://localhost:8080/"
        },
        "id": "3AnX_9YIiZCW",
        "outputId": "9c9c73fe-30f1-417b-dba5-2e5bde338e4c"
      },
      "execution_count": null,
      "outputs": [
        {
          "output_type": "stream",
          "name": "stdout",
          "text": [
            "tensor([ 0, 10, 20, 30, 40, 50, 60, 70, 80, 90])\n"
          ]
        }
      ]
    },
    {
      "cell_type": "code",
      "source": [
        "torch.min(x) , min(x)"
      ],
      "metadata": {
        "colab": {
          "base_uri": "https://localhost:8080/"
        },
        "id": "OnJJ0RNxju0g",
        "outputId": "df831d1d-5f42-4138-869c-f34138b430bb"
      },
      "execution_count": null,
      "outputs": [
        {
          "output_type": "execute_result",
          "data": {
            "text/plain": [
              "(tensor(0), tensor(0))"
            ]
          },
          "metadata": {},
          "execution_count": 13
        }
      ]
    },
    {
      "cell_type": "code",
      "source": [
        "torch.max(x) , max(x) , x.max()"
      ],
      "metadata": {
        "colab": {
          "base_uri": "https://localhost:8080/"
        },
        "id": "oQRQ5Pi7j1gO",
        "outputId": "aaf63de2-c91f-4544-cb50-bd83f548c24b"
      },
      "execution_count": null,
      "outputs": [
        {
          "output_type": "execute_result",
          "data": {
            "text/plain": [
              "(tensor(90), tensor(90), tensor(90))"
            ]
          },
          "metadata": {},
          "execution_count": 15
        }
      ]
    },
    {
      "cell_type": "code",
      "source": [
        "x.dtype"
      ],
      "metadata": {
        "colab": {
          "base_uri": "https://localhost:8080/"
        },
        "id": "9vBwJALoj6zY",
        "outputId": "5e3e7533-8d1c-467b-c83b-6312dbea8c54"
      },
      "execution_count": null,
      "outputs": [
        {
          "output_type": "execute_result",
          "data": {
            "text/plain": [
              "torch.int64"
            ]
          },
          "metadata": {},
          "execution_count": 17
        }
      ]
    },
    {
      "cell_type": "code",
      "source": [
        "torch.mean(x.type(torch.float32))  ,x.type(torch.float32).mean()"
      ],
      "metadata": {
        "id": "3sWT-aCgkHel"
      },
      "execution_count": null,
      "outputs": []
    },
    {
      "cell_type": "code",
      "source": [
        "torch.sum(x) , x.sum()"
      ],
      "metadata": {
        "colab": {
          "base_uri": "https://localhost:8080/"
        },
        "id": "7QCYjA9mjpQe",
        "outputId": "8dfe9454-9e2e-4559-cc35-aa3c2afd9d2c"
      },
      "execution_count": null,
      "outputs": [
        {
          "output_type": "execute_result",
          "data": {
            "text/plain": [
              "(tensor(450), tensor(450))"
            ]
          },
          "metadata": {},
          "execution_count": 18
        }
      ]
    },
    {
      "cell_type": "code",
      "source": [
        "print(x)\n",
        "x.argmin() , x.argmax()"
      ],
      "metadata": {
        "colab": {
          "base_uri": "https://localhost:8080/"
        },
        "id": "GL6-RqEDcQX-",
        "outputId": "f4faa4c0-8ccd-4cf9-9e02-207d27b06c9d"
      },
      "execution_count": null,
      "outputs": [
        {
          "output_type": "stream",
          "name": "stdout",
          "text": [
            "tensor([ 0, 10, 20, 30, 40, 50, 60, 70, 80, 90])\n"
          ]
        },
        {
          "output_type": "execute_result",
          "data": {
            "text/plain": [
              "(tensor(0), tensor(9))"
            ]
          },
          "metadata": {},
          "execution_count": 19
        }
      ]
    },
    {
      "cell_type": "code",
      "source": [
        "x[x.argmin()] , x[x.argmax()]"
      ],
      "metadata": {
        "colab": {
          "base_uri": "https://localhost:8080/"
        },
        "id": "N3PbKCOcmp1M",
        "outputId": "fb2ed1ef-07e6-4912-dc8f-bfbb3e7fb7d8"
      },
      "execution_count": null,
      "outputs": [
        {
          "output_type": "execute_result",
          "data": {
            "text/plain": [
              "(tensor(0), tensor(90))"
            ]
          },
          "metadata": {},
          "execution_count": 20
        }
      ]
    },
    {
      "cell_type": "code",
      "source": [
        "y = torch.arange(1.,10.)\n",
        "y , y.shape"
      ],
      "metadata": {
        "colab": {
          "base_uri": "https://localhost:8080/"
        },
        "id": "aFY3iHrica2T",
        "outputId": "8da6af6e-5a9d-4fed-b0dc-99698a7a6fe3"
      },
      "execution_count": null,
      "outputs": [
        {
          "output_type": "execute_result",
          "data": {
            "text/plain": [
              "(tensor([1., 2., 3., 4., 5., 6., 7., 8., 9.]), torch.Size([9]))"
            ]
          },
          "metadata": {},
          "execution_count": 21
        }
      ]
    },
    {
      "cell_type": "code",
      "source": [
        "y_reshaped = y.reshape(3,3)\n",
        "y_reshaped , y_reshaped.shape"
      ],
      "metadata": {
        "colab": {
          "base_uri": "https://localhost:8080/"
        },
        "id": "Xrb0D7qCXveX",
        "outputId": "0fc2afaf-09a2-425d-a4d7-4bd58f22a01a"
      },
      "execution_count": null,
      "outputs": [
        {
          "output_type": "execute_result",
          "data": {
            "text/plain": [
              "(tensor([[1., 2., 3.],\n",
              "         [4., 5., 6.],\n",
              "         [7., 8., 9.]]),\n",
              " torch.Size([3, 3]))"
            ]
          },
          "metadata": {},
          "execution_count": 22
        }
      ]
    },
    {
      "cell_type": "code",
      "source": [
        "z = y.view(1,9)\n",
        "z[:,0]= 5\n",
        "z , y"
      ],
      "metadata": {
        "colab": {
          "base_uri": "https://localhost:8080/"
        },
        "id": "xaBrdO8-rcwh",
        "outputId": "0524f7c6-7726-481a-bc1a-6dcf4d20263e"
      },
      "execution_count": null,
      "outputs": [
        {
          "output_type": "execute_result",
          "data": {
            "text/plain": [
              "(tensor([[5., 2., 3., 4., 5., 6., 7., 8., 9.]]),\n",
              " tensor([5., 2., 3., 4., 5., 6., 7., 8., 9.]))"
            ]
          },
          "metadata": {},
          "execution_count": 23
        }
      ]
    },
    {
      "cell_type": "code",
      "source": [
        "y_stacked = torch.stack([y,y,y,y],dim=0)\n",
        "y_stacked"
      ],
      "metadata": {
        "colab": {
          "base_uri": "https://localhost:8080/"
        },
        "id": "sBWMj_kdsAvF",
        "outputId": "24f2b380-332a-48fe-acf2-0d516bc470ba"
      },
      "execution_count": null,
      "outputs": [
        {
          "output_type": "execute_result",
          "data": {
            "text/plain": [
              "tensor([[5., 2., 3., 4., 5., 6., 7., 8., 9.],\n",
              "        [5., 2., 3., 4., 5., 6., 7., 8., 9.],\n",
              "        [5., 2., 3., 4., 5., 6., 7., 8., 9.],\n",
              "        [5., 2., 3., 4., 5., 6., 7., 8., 9.]])"
            ]
          },
          "metadata": {},
          "execution_count": 24
        }
      ]
    },
    {
      "cell_type": "code",
      "source": [
        "y_stacked = torch.stack([y,y,y,y],dim=1)\n",
        "y_stacked"
      ],
      "metadata": {
        "colab": {
          "base_uri": "https://localhost:8080/"
        },
        "id": "99GQiS9zrmp9",
        "outputId": "09f1bbae-61b7-4224-ddd0-86e213e18f9f"
      },
      "execution_count": null,
      "outputs": [
        {
          "output_type": "execute_result",
          "data": {
            "text/plain": [
              "tensor([[5., 5., 5., 5.],\n",
              "        [2., 2., 2., 2.],\n",
              "        [3., 3., 3., 3.],\n",
              "        [4., 4., 4., 4.],\n",
              "        [5., 5., 5., 5.],\n",
              "        [6., 6., 6., 6.],\n",
              "        [7., 7., 7., 7.],\n",
              "        [8., 8., 8., 8.],\n",
              "        [9., 9., 9., 9.]])"
            ]
          },
          "metadata": {},
          "execution_count": 25
        }
      ]
    },
    {
      "cell_type": "code",
      "source": [
        "y_stacked = torch.stack([y,y,y,y],dim=1)\n",
        "y_stacked"
      ],
      "metadata": {
        "colab": {
          "base_uri": "https://localhost:8080/"
        },
        "id": "jleEEHOCtcJO",
        "outputId": "c8d4d584-9590-4afc-c0d6-41bd61748ae3"
      },
      "execution_count": null,
      "outputs": [
        {
          "output_type": "execute_result",
          "data": {
            "text/plain": [
              "tensor([[5., 5., 5., 5.],\n",
              "        [2., 2., 2., 2.],\n",
              "        [3., 3., 3., 3.],\n",
              "        [4., 4., 4., 4.],\n",
              "        [5., 5., 5., 5.],\n",
              "        [6., 6., 6., 6.],\n",
              "        [7., 7., 7., 7.],\n",
              "        [8., 8., 8., 8.],\n",
              "        [9., 9., 9., 9.]])"
            ]
          },
          "metadata": {},
          "execution_count": 26
        }
      ]
    },
    {
      "cell_type": "code",
      "source": [
        "import torch\n",
        "z = torch.arange(1,11)\n",
        "print(z)\n",
        "z.shape"
      ],
      "metadata": {
        "id": "Pj-iS3UBsuIM"
      },
      "execution_count": null,
      "outputs": []
    },
    {
      "cell_type": "code",
      "source": [
        "z_reshaped = z.reshape(2,5)\n",
        "z_reshaped"
      ],
      "metadata": {
        "id": "E2dDnMS2SOK6"
      },
      "execution_count": null,
      "outputs": []
    },
    {
      "cell_type": "code",
      "source": [
        "z_stack = torch.stack([z_reshaped , z_reshaped , z_reshaped],dim=0)\n",
        "z_stack"
      ],
      "metadata": {
        "id": "7TToh4lFSqMg"
      },
      "execution_count": null,
      "outputs": []
    },
    {
      "cell_type": "code",
      "source": [
        "z_stack = torch.stack([z_reshaped , z_reshaped , z_reshaped],dim=1)\n",
        "z_stack"
      ],
      "metadata": {
        "id": "fcq4PexVTA-h"
      },
      "execution_count": null,
      "outputs": []
    },
    {
      "cell_type": "code",
      "source": [
        "z_stack = torch.stack([z_reshaped , z_reshaped , z_reshaped],dim=2)\n",
        "z_stack"
      ],
      "metadata": {
        "id": "8aQBkSnZTFq0"
      },
      "execution_count": null,
      "outputs": []
    },
    {
      "cell_type": "code",
      "source": [
        "z_reshaped"
      ],
      "metadata": {
        "id": "TQN8SgoQTLx8"
      },
      "execution_count": null,
      "outputs": []
    },
    {
      "cell_type": "code",
      "source": [
        "z_squeeze = z_reshaped.squeeze()\n",
        "z_squeeze"
      ],
      "metadata": {
        "id": "KoZjbaL_TXH8"
      },
      "execution_count": null,
      "outputs": []
    },
    {
      "cell_type": "code",
      "source": [
        "print(z)\n",
        "z_reshaped2 = z.reshape(1,10)\n",
        "z_reshaped2"
      ],
      "metadata": {
        "id": "inCB6UcdTkQL"
      },
      "execution_count": null,
      "outputs": []
    },
    {
      "cell_type": "code",
      "source": [
        "z_squeeze2 = z_reshaped2.squeeze()\n",
        "z_squeeze2.shape"
      ],
      "metadata": {
        "id": "Zn45WTQTUI0c"
      },
      "execution_count": null,
      "outputs": []
    },
    {
      "cell_type": "code",
      "source": [
        "d = torch.arange(1,11)\n",
        "d_reshaped = d.reshape(1,10)\n",
        "d_reshaped\n",
        "d_reshaped.shape\n",
        "d_squeezed = d_reshaped.squeeze()\n",
        "print(d_squeezed)\n",
        "print(d_squeezed.shape)\n",
        "print(f\"the squeeze of the d is : {d_squeezed}\")\n",
        "print(f\"the unsqueeze of the d is : {d_squeezed.unsqueeze(dim=0)}\")\n",
        "print(f\"the unsqueeze of the d is : {d_squeezed.unsqueeze(dim=0).unsqueeze(dim=1)}\")"
      ],
      "metadata": {
        "id": "4sa3_BWoUj8L"
      },
      "execution_count": null,
      "outputs": []
    },
    {
      "cell_type": "code",
      "source": [
        "d\n",
        "d_reshaped = d.reshape(1,10)\n",
        "print(d_reshaped)\n",
        "d_squeeze = d_reshaped.squeeze()\n",
        "print(d_squeeze)\n",
        "print(d_squeeze.shape)\n",
        "d_unsqueeze = d.unsqueeze(dim=0)\n",
        "print(d_unsqueeze)\n",
        "print(d_unsqueeze.shape)\n",
        "d_unsqueeze2 = d.unsqueeze(dim=1)\n",
        "print(d_unsqueeze2)\n",
        "print(d_unsqueeze2.shape)"
      ],
      "metadata": {
        "id": "S1fu7hYUWLr2"
      },
      "execution_count": null,
      "outputs": []
    },
    {
      "cell_type": "code",
      "source": [
        "x_original = torch.rand(size=(224,224,3))\n",
        "x_permuted = x_original.permute(2,0,1)\n",
        "\n",
        "print(f\"the original shape is : {x_original.shape}\")\n",
        "print(f\"the permuted shape of original shape is : {x_permuted.shape}\")"
      ],
      "metadata": {
        "id": "0--FQptUXi-f"
      },
      "execution_count": null,
      "outputs": []
    },
    {
      "cell_type": "code",
      "source": [
        "h = torch.rand(3,4,2)\n",
        "print(h)"
      ],
      "metadata": {
        "id": "36-5sekTVzZW"
      },
      "execution_count": null,
      "outputs": []
    },
    {
      "cell_type": "code",
      "source": [
        "h_permuted = h.permute(2,0,1)\n",
        "print(h_permuted)"
      ],
      "metadata": {
        "id": "LhQWzdMUUT20"
      },
      "execution_count": null,
      "outputs": []
    },
    {
      "cell_type": "code",
      "source": [
        "print(h.shape)\n",
        "print(h_permuted.shape)"
      ],
      "metadata": {
        "id": "-3Shvon5bQ1Z"
      },
      "execution_count": null,
      "outputs": []
    },
    {
      "cell_type": "code",
      "source": [],
      "metadata": {
        "id": "Ui-NIf24bXms"
      },
      "execution_count": null,
      "outputs": []
    },
    {
      "cell_type": "code",
      "source": [
        "h_permuted[0,0,1] = 12\n",
        "print(h_permuted)\n",
        "print(h)"
      ],
      "metadata": {
        "id": "oSenzBNKbZux"
      },
      "execution_count": null,
      "outputs": []
    },
    {
      "cell_type": "code",
      "source": [
        "u = torch.arange(1,10)\n",
        "print(u)\n",
        "u_reshaped = u.reshape(1,3,3)\n",
        "print(u_reshaped)"
      ],
      "metadata": {
        "id": "ls1ISiEgbfIR"
      },
      "execution_count": null,
      "outputs": []
    },
    {
      "cell_type": "code",
      "source": [
        "print(u_reshaped[0,1,2])"
      ],
      "metadata": {
        "id": "ZZMa-ruefHNG"
      },
      "execution_count": null,
      "outputs": []
    },
    {
      "cell_type": "code",
      "source": [
        "u_reshaped[: , 2]"
      ],
      "metadata": {
        "id": "82IR_IL3exjD"
      },
      "execution_count": null,
      "outputs": []
    },
    {
      "cell_type": "code",
      "source": [
        "u_reshaped[: , : , 0]"
      ],
      "metadata": {
        "id": "hqGT7LutfnHI"
      },
      "execution_count": null,
      "outputs": []
    },
    {
      "cell_type": "code",
      "source": [
        "u_reshaped[: , : , 2 ][0][1]"
      ],
      "metadata": {
        "id": "dxI0J3W5f2d3"
      },
      "execution_count": null,
      "outputs": []
    },
    {
      "cell_type": "code",
      "source": [
        "print(u_reshaped[: , : , 1][0][1])\n",
        "u_reshaped[: , : , 2][0][1]"
      ],
      "metadata": {
        "id": "GgrlvYQEgwT_"
      },
      "execution_count": null,
      "outputs": []
    },
    {
      "cell_type": "code",
      "source": [
        "print(u_reshaped[: , 1,2])"
      ],
      "metadata": {
        "id": "kbL34_wLgAG3"
      },
      "execution_count": null,
      "outputs": []
    },
    {
      "cell_type": "code",
      "source": [
        "u_reshaped"
      ],
      "metadata": {
        "id": "QQOdGEZEiVZ-"
      },
      "execution_count": null,
      "outputs": []
    },
    {
      "cell_type": "code",
      "source": [
        "print(u_reshaped[0,2,:])\n",
        "print(u_reshaped[0,2,:][2])\n",
        "print(u_reshaped[:])\n",
        "print(u_reshaped[:,:,2])"
      ],
      "metadata": {
        "id": "E23wW3JEiYou"
      },
      "execution_count": null,
      "outputs": []
    },
    {
      "cell_type": "code",
      "source": [
        " import torch\n",
        " import numpy as np\n",
        " array = np.arange(1.0 , 8.0)\n",
        " tensore = torch.from_numpy(array).type(torch.float32)\n",
        " array , tensore , tensore.dtype"
      ],
      "metadata": {
        "id": "RRozUPK2ilW-"
      },
      "execution_count": null,
      "outputs": []
    },
    {
      "cell_type": "markdown",
      "source": [],
      "metadata": {
        "id": "a-s_QmZjIunH"
      }
    },
    {
      "cell_type": "code",
      "source": [
        "tensore = torch.ones(8)\n",
        "numpy_tensore = tensore.numpy()\n",
        "tensore , numpy_tensore"
      ],
      "metadata": {
        "colab": {
          "base_uri": "https://localhost:8080/"
        },
        "id": "9GrbMBUEn_bC",
        "outputId": "edfed4c6-146b-4c89-d730-3edb03ce3fe3"
      },
      "execution_count": null,
      "outputs": [
        {
          "output_type": "execute_result",
          "data": {
            "text/plain": [
              "(tensor([1., 1., 1., 1., 1., 1., 1., 1.]),\n",
              " array([1., 1., 1., 1., 1., 1., 1., 1.], dtype=float32))"
            ]
          },
          "metadata": {},
          "execution_count": 28
        }
      ]
    },
    {
      "cell_type": "code",
      "source": [
        "numpy_tensore.dtype"
      ],
      "metadata": {
        "colab": {
          "base_uri": "https://localhost:8080/"
        },
        "id": "VuffwpUQqBWc",
        "outputId": "169a2bbf-80a2-45c7-b58b-d8665d08f6e7"
      },
      "execution_count": null,
      "outputs": [
        {
          "output_type": "execute_result",
          "data": {
            "text/plain": [
              "dtype('float32')"
            ]
          },
          "metadata": {},
          "execution_count": 29
        }
      ]
    },
    {
      "cell_type": "code",
      "source": [
        "random_tensor_A=torch.rand(3,4)\n",
        "random_tensor_B=torch.rand(3,4)\n",
        "\n",
        "print(random_tensor_A)\n",
        "print(random_tensor_B)\n",
        "print(random_tensor_A == random_tensor_B)"
      ],
      "metadata": {
        "colab": {
          "base_uri": "https://localhost:8080/"
        },
        "id": "IP3bGiS6Iskw",
        "outputId": "f4653d64-48f5-41e5-c3f5-84196459ab30"
      },
      "execution_count": null,
      "outputs": [
        {
          "output_type": "stream",
          "name": "stdout",
          "text": [
            "tensor([[0.8925, 0.4774, 0.5464, 0.4436],\n",
            "        [0.5675, 0.3810, 0.7038, 0.2611],\n",
            "        [0.9767, 0.8107, 0.6404, 0.2914]])\n",
            "tensor([[0.0392, 0.1238, 0.5839, 0.1826],\n",
            "        [0.6735, 0.2796, 0.0351, 0.2760],\n",
            "        [0.6608, 0.6141, 0.9987, 0.9872]])\n",
            "tensor([[False, False, False, False],\n",
            "        [False, False, False, False],\n",
            "        [False, False, False, False]])\n"
          ]
        }
      ]
    },
    {
      "cell_type": "code",
      "source": [
        "RANDOM_SEED =200\n",
        "torch.manual_seed(RANDOM_SEED)\n",
        "random_tensor_C= torch.rand(3,4)\n",
        "torch.manual_seed(RANDOM_SEED)\n",
        "random_tensor_D= torch.rand(3,4)\n",
        "\n",
        "print(random_tensor_C)\n",
        "print(random_tensor_D)\n",
        "print(random_tensor_C == random_tensor_D)"
      ],
      "metadata": {
        "colab": {
          "base_uri": "https://localhost:8080/"
        },
        "id": "N7ZCDuetMbwn",
        "outputId": "ea7c3fb1-9294-4407-d82f-58b4ef049143"
      },
      "execution_count": null,
      "outputs": [
        {
          "output_type": "stream",
          "name": "stdout",
          "text": [
            "tensor([[0.5939, 0.5008, 0.9961, 0.0311],\n",
            "        [0.1716, 0.9481, 0.6470, 0.9265],\n",
            "        [0.6200, 0.3349, 0.7323, 0.7349]])\n",
            "tensor([[0.5939, 0.5008, 0.9961, 0.0311],\n",
            "        [0.1716, 0.9481, 0.6470, 0.9265],\n",
            "        [0.6200, 0.3349, 0.7323, 0.7349]])\n",
            "tensor([[True, True, True, True],\n",
            "        [True, True, True, True],\n",
            "        [True, True, True, True]])\n"
          ]
        }
      ]
    },
    {
      "cell_type": "markdown",
      "source": [],
      "metadata": {
        "id": "qiO1fSwPMfzO"
      }
    },
    {
      "cell_type": "markdown",
      "source": [],
      "metadata": {
        "id": "j2ZMjSRbMfi-"
      }
    },
    {
      "cell_type": "code",
      "source": [
        "!nvidia-smi"
      ],
      "metadata": {
        "colab": {
          "base_uri": "https://localhost:8080/"
        },
        "id": "6KB6wHylQTSI",
        "outputId": "b45bcee3-ee24-4f4d-ced0-7c07770ac2c7"
      },
      "execution_count": null,
      "outputs": [
        {
          "output_type": "stream",
          "name": "stdout",
          "text": [
            "Mon Nov  4 12:58:42 2024       \n",
            "+---------------------------------------------------------------------------------------+\n",
            "| NVIDIA-SMI 535.104.05             Driver Version: 535.104.05   CUDA Version: 12.2     |\n",
            "|-----------------------------------------+----------------------+----------------------+\n",
            "| GPU  Name                 Persistence-M | Bus-Id        Disp.A | Volatile Uncorr. ECC |\n",
            "| Fan  Temp   Perf          Pwr:Usage/Cap |         Memory-Usage | GPU-Util  Compute M. |\n",
            "|                                         |                      |               MIG M. |\n",
            "|=========================================+======================+======================|\n",
            "|   0  Tesla T4                       Off | 00000000:00:04.0 Off |                    0 |\n",
            "| N/A   43C    P8               9W /  70W |      0MiB / 15360MiB |      0%      Default |\n",
            "|                                         |                      |                  N/A |\n",
            "+-----------------------------------------+----------------------+----------------------+\n",
            "                                                                                         \n",
            "+---------------------------------------------------------------------------------------+\n",
            "| Processes:                                                                            |\n",
            "|  GPU   GI   CI        PID   Type   Process name                            GPU Memory |\n",
            "|        ID   ID                                                             Usage      |\n",
            "|=======================================================================================|\n",
            "|  No running processes found                                                           |\n",
            "+---------------------------------------------------------------------------------------+\n"
          ]
        }
      ]
    },
    {
      "cell_type": "code",
      "source": [
        "import torch\n",
        "torch.cuda.is_available()"
      ],
      "metadata": {
        "colab": {
          "base_uri": "https://localhost:8080/"
        },
        "id": "RdfD9wbtQhsE",
        "outputId": "6f8d2338-299b-4e20-c17d-3f08322363cd"
      },
      "execution_count": null,
      "outputs": [
        {
          "output_type": "execute_result",
          "data": {
            "text/plain": [
              "True"
            ]
          },
          "metadata": {},
          "execution_count": 2
        }
      ]
    },
    {
      "cell_type": "code",
      "source": [
        "device = \"cuda\" if torch.cuda.is_available() else \"cpu\"\n",
        "device"
      ],
      "metadata": {
        "colab": {
          "base_uri": "https://localhost:8080/",
          "height": 35
        },
        "id": "4pTVmcdcQ9ye",
        "outputId": "2fd3c694-1d0b-4f8f-8011-7b04d49c14e4"
      },
      "execution_count": null,
      "outputs": [
        {
          "output_type": "execute_result",
          "data": {
            "text/plain": [
              "'cuda'"
            ],
            "application/vnd.google.colaboratory.intrinsic+json": {
              "type": "string"
            }
          },
          "metadata": {},
          "execution_count": 3
        }
      ]
    },
    {
      "cell_type": "code",
      "source": [
        "torch.cuda.device_count()"
      ],
      "metadata": {
        "colab": {
          "base_uri": "https://localhost:8080/"
        },
        "id": "KjXlBXmeRNRV",
        "outputId": "027b6f94-a39e-48a0-9fdd-e58d0605bfb2"
      },
      "execution_count": null,
      "outputs": [
        {
          "output_type": "execute_result",
          "data": {
            "text/plain": [
              "1"
            ]
          },
          "metadata": {},
          "execution_count": 5
        }
      ]
    },
    {
      "cell_type": "code",
      "source": [
        "tensor = torch.tensor([1,2,3])\n",
        "\n",
        "print(tensor, tensor.device)"
      ],
      "metadata": {
        "colab": {
          "base_uri": "https://localhost:8080/"
        },
        "id": "-Fe4FwkhRVj-",
        "outputId": "31bb9879-6971-4d09-d270-a63e8784c895"
      },
      "execution_count": null,
      "outputs": [
        {
          "output_type": "stream",
          "name": "stdout",
          "text": [
            "tensor([1, 2, 3]) cpu\n"
          ]
        }
      ]
    },
    {
      "cell_type": "code",
      "source": [
        "tensor_on_gpu = tensor.to(device)\n",
        "tensor_on_gpu"
      ],
      "metadata": {
        "colab": {
          "base_uri": "https://localhost:8080/"
        },
        "id": "7k8z7BdgSvct",
        "outputId": "4134b01d-30b3-447c-c6f5-5f8aaf9ce135"
      },
      "execution_count": null,
      "outputs": [
        {
          "output_type": "execute_result",
          "data": {
            "text/plain": [
              "tensor([1, 2, 3], device='cuda:0')"
            ]
          },
          "metadata": {},
          "execution_count": 8
        }
      ]
    },
    {
      "cell_type": "code",
      "source": [
        "tensor_on_gpu.device"
      ],
      "metadata": {
        "colab": {
          "base_uri": "https://localhost:8080/"
        },
        "id": "UrVuOkgCS4et",
        "outputId": "af335753-aa96-4f9d-8553-ed05c794ad4e"
      },
      "execution_count": null,
      "outputs": [
        {
          "output_type": "execute_result",
          "data": {
            "text/plain": [
              "device(type='cuda', index=0)"
            ]
          },
          "metadata": {},
          "execution_count": 9
        }
      ]
    },
    {
      "cell_type": "code",
      "source": [
        "tensor_back_on_cpu = tensor_on_gpu.cpu().numpy()\n",
        "tensor_back_on_cpu"
      ],
      "metadata": {
        "colab": {
          "base_uri": "https://localhost:8080/"
        },
        "id": "nDJnNL_MTAiU",
        "outputId": "9d9b80c8-0dc2-469b-bc45-d0a736e23981"
      },
      "execution_count": null,
      "outputs": [
        {
          "output_type": "execute_result",
          "data": {
            "text/plain": [
              "array([1, 2, 3])"
            ]
          },
          "metadata": {},
          "execution_count": 10
        }
      ]
    },
    {
      "cell_type": "code",
      "source": [],
      "metadata": {
        "id": "EEEYAQOXT-eM"
      },
      "execution_count": null,
      "outputs": []
    }
  ]
}