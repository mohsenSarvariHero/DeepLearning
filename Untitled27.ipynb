{
  "nbformat": 4,
  "nbformat_minor": 0,
  "metadata": {
    "colab": {
      "provenance": [],
      "gpuType": "T4",
      "authorship_tag": "ABX9TyPW30blvOOR2VpSastbE2rQ",
      "include_colab_link": true
    },
    "kernelspec": {
      "name": "python3",
      "display_name": "Python 3"
    },
    "language_info": {
      "name": "python"
    },
    "accelerator": "GPU"
  },
  "cells": [
    {
      "cell_type": "markdown",
      "metadata": {
        "id": "view-in-github",
        "colab_type": "text"
      },
      "source": [
        "<a href=\"https://colab.research.google.com/github/mohsenSarvariHero/DeepLearning/blob/main/Untitled27.ipynb\" target=\"_parent\"><img src=\"https://colab.research.google.com/assets/colab-badge.svg\" alt=\"Open In Colab\"/></a>"
      ]
    },
    {
      "cell_type": "markdown",
      "source": [
        "Documentation reading - A big part of deep learning (and learning to code in general) is getting familiar with the documentation of a certain framework you're using. We'll be using the PyTorch documentation a lot throughout the rest of this course. So I'd recommend spending 10-minutes reading the following (it's okay if you don't get some things for now, the focus is not yet full understanding, it's awareness). See theDocumentation reading - A big part of deep learning (and learning to code in general) is getting familiar with the documentation of a certain framework you're using. We'll be using the PyTorch documentation a lot throughout the rest of this course. So I'd recommend spending 10-minutes reading the following (it's okay if you don't get some things for now, the focus is not yet full understanding, it's awareness). See theDocumentation reading - A big part of deep learning (and learning to code in general) is getting familiar with the documentation of a certain framework you're using. We'll be using the PyTorch documentation a lot throughout the rest of this course. So I'd recommend spending 10-minutes reading the following (it's okay if you don't get some things for now, the focus is not yet full understanding, it's awareness). See the"
      ],
      "metadata": {
        "id": "3_fmyKmW3I3T"
      }
    },
    {
      "cell_type": "markdown",
      "source": [
        "Create a random tensor with shape (7, 7)."
      ],
      "metadata": {
        "id": "ry43ujngpkJo"
      }
    },
    {
      "cell_type": "markdown",
      "source": [
        "\n"
      ],
      "metadata": {
        "id": "nZdTQfykp_Mb"
      }
    },
    {
      "cell_type": "code",
      "source": [
        "# Import torch\n",
        "import torch\n",
        "\n",
        "# Create random tensor\n",
        "X = torch.rand(size=(7, 7))\n",
        "X, X.shape , X.ndim"
      ],
      "metadata": {
        "colab": {
          "base_uri": "https://localhost:8080/"
        },
        "id": "vdataxTZqks4",
        "outputId": "6232ebd9-a549-43b8-e647-07ad251cd30a"
      },
      "execution_count": 1,
      "outputs": [
        {
          "output_type": "execute_result",
          "data": {
            "text/plain": [
              "(tensor([[0.6643, 0.0967, 0.7487, 0.5308, 0.9009, 0.5129, 0.3928],\n",
              "         [0.1431, 0.8588, 0.5416, 0.5362, 0.9634, 0.0861, 0.6339],\n",
              "         [0.6371, 0.1624, 0.3480, 0.3392, 0.2280, 0.5912, 0.8604],\n",
              "         [0.8304, 0.8115, 0.9371, 0.7801, 0.9359, 0.4194, 0.1718],\n",
              "         [0.0364, 0.9067, 0.8848, 0.1377, 0.1992, 0.0762, 0.2433],\n",
              "         [0.5324, 0.5862, 0.4324, 0.2876, 0.8575, 0.2826, 0.5512],\n",
              "         [0.1622, 0.7995, 0.2818, 0.4829, 0.0464, 0.9436, 0.6477]]),\n",
              " torch.Size([7, 7]),\n",
              " 2)"
            ]
          },
          "metadata": {},
          "execution_count": 1
        }
      ]
    },
    {
      "cell_type": "markdown",
      "source": [
        "Perform a matrix multiplication on the tensor from 2 with another random tensor with shape (1, 7) (hint: you may have to transpose the second tensor).\n"
      ],
      "metadata": {
        "id": "Q45Lwd25rSOp"
      }
    },
    {
      "cell_type": "code",
      "source": [
        "Y = torch.rand(size=(1, 7))\n",
        "Y, Y.shape , Y.ndim"
      ],
      "metadata": {
        "colab": {
          "base_uri": "https://localhost:8080/"
        },
        "id": "Z5CFopikrUd_",
        "outputId": "23939659-29ce-40e7-f964-581c02f372e7"
      },
      "execution_count": 2,
      "outputs": [
        {
          "output_type": "execute_result",
          "data": {
            "text/plain": [
              "(tensor([[0.4627, 0.1619, 0.7269, 0.6518, 0.1552, 0.9020, 0.1884]]),\n",
              " torch.Size([1, 7]),\n",
              " 2)"
            ]
          },
          "metadata": {},
          "execution_count": 2
        }
      ]
    },
    {
      "cell_type": "code",
      "source": [
        "Z = torch.matmul(X, Y.T)\n",
        "Z"
      ],
      "metadata": {
        "colab": {
          "base_uri": "https://localhost:8080/"
        },
        "id": "aHnXTtH_rfhU",
        "outputId": "ef4edc47-31ae-4ea4-f8e3-d5d16097d4c9"
      },
      "execution_count": 3,
      "outputs": [
        {
          "output_type": "execute_result",
          "data": {
            "text/plain": [
              "tensor([[1.8897],\n",
              "        [1.2951],\n",
              "        [1.5258],\n",
              "        [2.2612],\n",
              "        [1.0420],\n",
              "        [1.3348],\n",
              "        [1.7044]])"
            ]
          },
          "metadata": {},
          "execution_count": 3
        }
      ]
    },
    {
      "cell_type": "markdown",
      "source": [
        "Set the random seed to 0 and do exercises 2 & 3 over again."
      ],
      "metadata": {
        "id": "eDkOFeFlrlw0"
      }
    },
    {
      "cell_type": "code",
      "source": [
        "RANDOM_SEED = 0\n",
        "torch.manual_seed(seed=RANDOM_SEED)\n",
        "X = torch.rand(7,7)\n",
        "Y = torch.rand(1,7)\n",
        "print(f\"the X tensor is \\n {X} and the the shape is \\n {X.shape} and \\n the Y tensore is \\n {Y}  and the shape is : \\n {Y.shape}\")\n",
        "Z = torch.matmul(X, Y.T)\n",
        "print(f\"the Z tensor is \\n {Z} and the the shape is \\n {Z.shape}\")"
      ],
      "metadata": {
        "colab": {
          "base_uri": "https://localhost:8080/"
        },
        "id": "kP3UVTSosJUS",
        "outputId": "3b18dad0-73e8-4c63-b338-4273e6f809bf"
      },
      "execution_count": 4,
      "outputs": [
        {
          "output_type": "stream",
          "name": "stdout",
          "text": [
            "the X tensor is \n",
            " tensor([[0.4963, 0.7682, 0.0885, 0.1320, 0.3074, 0.6341, 0.4901],\n",
            "        [0.8964, 0.4556, 0.6323, 0.3489, 0.4017, 0.0223, 0.1689],\n",
            "        [0.2939, 0.5185, 0.6977, 0.8000, 0.1610, 0.2823, 0.6816],\n",
            "        [0.9152, 0.3971, 0.8742, 0.4194, 0.5529, 0.9527, 0.0362],\n",
            "        [0.1852, 0.3734, 0.3051, 0.9320, 0.1759, 0.2698, 0.1507],\n",
            "        [0.0317, 0.2081, 0.9298, 0.7231, 0.7423, 0.5263, 0.2437],\n",
            "        [0.5846, 0.0332, 0.1387, 0.2422, 0.8155, 0.7932, 0.2783]]) and the the shape is \n",
            " torch.Size([7, 7]) and \n",
            " the Y tensore is \n",
            " tensor([[0.4820, 0.8198, 0.9971, 0.6984, 0.5675, 0.8352, 0.2056]])  and the shape is : \n",
            " torch.Size([1, 7])\n",
            "the Z tensor is \n",
            " tensor([[1.8542],\n",
            "        [1.9611],\n",
            "        [2.2884],\n",
            "        [3.0481],\n",
            "        [1.7067],\n",
            "        [2.5290],\n",
            "        [1.7989]]) and the the shape is \n",
            " torch.Size([7, 1])\n"
          ]
        }
      ]
    },
    {
      "cell_type": "markdown",
      "source": [
        "Speaking of random seeds, we saw how to set it with torch.manual_seed() but is there a GPU equivalent? (hint: you'll need to look into the documentation for torch.cuda for this one). If there is, set the GPU random seed to 1234."
      ],
      "metadata": {
        "id": "mozLFz_ytfDP"
      }
    },
    {
      "cell_type": "code",
      "source": [
        "import torch\n",
        "\n",
        "# Set the CPU random seed\n",
        "torch.manual_seed(1234)\n",
        "\n",
        "# Set the GPU random seed\n",
        "torch.cuda.manual_seed(1234)\n"
      ],
      "metadata": {
        "id": "rBAP8EmOtgNm"
      },
      "execution_count": 5,
      "outputs": []
    },
    {
      "cell_type": "code",
      "source": [],
      "metadata": {
        "id": "9YISwldDsR2L"
      },
      "execution_count": 5,
      "outputs": []
    },
    {
      "cell_type": "markdown",
      "source": [
        "Create two random tensors of shape (2, 3) and send them both to the GPU (you'll need access to a GPU for this). Set torch.manual_seed(1234) when creating the tensors (this doesn't have to be the GPU random seed)."
      ],
      "metadata": {
        "id": "Sff6Wuwjyo-8"
      }
    },
    {
      "cell_type": "code",
      "source": [
        "torch.manual_seed(1234)\n",
        "\n",
        "device=\"cuda\" if torch.cuda.is_available() else \"cpu\"\n",
        "print(f\"device : {device}\")\n",
        "\n",
        "tensor1 = torch.rand(2,3).to(device)\n",
        "tensor2 = torch.rand(2,3).to(device)\n",
        "tensor1 , tensor1.device , tensor2 , tensor2.device"
      ],
      "metadata": {
        "colab": {
          "base_uri": "https://localhost:8080/"
        },
        "id": "nnsbYVv_yp4c",
        "outputId": "14434902-4f1c-48da-f5e2-c4db7729232b"
      },
      "execution_count": 7,
      "outputs": [
        {
          "output_type": "stream",
          "name": "stdout",
          "text": [
            "device : cuda\n"
          ]
        },
        {
          "output_type": "execute_result",
          "data": {
            "text/plain": [
              "(tensor([[0.0290, 0.4019, 0.2598],\n",
              "         [0.3666, 0.0583, 0.7006]], device='cuda:0'),\n",
              " device(type='cuda', index=0),\n",
              " tensor([[0.0518, 0.4681, 0.6738],\n",
              "         [0.3315, 0.7837, 0.5631]], device='cuda:0'),\n",
              " device(type='cuda', index=0))"
            ]
          },
          "metadata": {},
          "execution_count": 7
        }
      ]
    },
    {
      "cell_type": "code",
      "source": [],
      "metadata": {
        "id": "xp5nbwnz0dzt"
      },
      "execution_count": null,
      "outputs": []
    },
    {
      "cell_type": "markdown",
      "source": [
        "Perform a matrix multiplication on the tensors you created in 6 (again, you may have to adjust the shapes of one of the tensors)."
      ],
      "metadata": {
        "id": "Gg7wuOal0g2c"
      }
    },
    {
      "cell_type": "code",
      "source": [
        "multi = torch.matmul(tensor1, tensor2.T)\n",
        "multi"
      ],
      "metadata": {
        "colab": {
          "base_uri": "https://localhost:8080/"
        },
        "id": "haI_gNgD0iNU",
        "outputId": "d62f4d72-00c8-4f55-dba2-6be3e7a7ecd7"
      },
      "execution_count": 8,
      "outputs": [
        {
          "output_type": "execute_result",
          "data": {
            "text/plain": [
              "tensor([[0.3647, 0.4709],\n",
              "        [0.5184, 0.5617]], device='cuda:0')"
            ]
          },
          "metadata": {},
          "execution_count": 8
        }
      ]
    },
    {
      "cell_type": "markdown",
      "source": [
        "Find the maximum and minimum values of the output of 7."
      ],
      "metadata": {
        "id": "sQ7zxaYv23TM"
      }
    },
    {
      "cell_type": "code",
      "source": [
        "multi.max()\n",
        "torch.max(multi)"
      ],
      "metadata": {
        "colab": {
          "base_uri": "https://localhost:8080/"
        },
        "id": "74U_wGoo24Kz",
        "outputId": "2e265fff-f638-4aaa-8395-743be443c68e"
      },
      "execution_count": 10,
      "outputs": [
        {
          "output_type": "execute_result",
          "data": {
            "text/plain": [
              "tensor(0.5617, device='cuda:0')"
            ]
          },
          "metadata": {},
          "execution_count": 10
        }
      ]
    },
    {
      "cell_type": "code",
      "source": [],
      "metadata": {
        "id": "G5kDZp5d3H7B"
      },
      "execution_count": null,
      "outputs": []
    },
    {
      "cell_type": "markdown",
      "source": [
        "Find the maximum and minimum index values of the output of 7."
      ],
      "metadata": {
        "id": "wxGn6HSM3oab"
      }
    },
    {
      "cell_type": "code",
      "source": [
        "index = torch.argmax(multi)\n",
        "index , index.item()"
      ],
      "metadata": {
        "colab": {
          "base_uri": "https://localhost:8080/"
        },
        "id": "HQFA8MLy3psj",
        "outputId": "93f1e9f8-3304-40a1-9151-6af99cc9cbd1"
      },
      "execution_count": 17,
      "outputs": [
        {
          "output_type": "execute_result",
          "data": {
            "text/plain": [
              "(tensor(3, device='cuda:0'), 3)"
            ]
          },
          "metadata": {},
          "execution_count": 17
        }
      ]
    },
    {
      "cell_type": "code",
      "source": [
        "index2 = torch.argmin(multi)\n",
        "index"
      ],
      "metadata": {
        "colab": {
          "base_uri": "https://localhost:8080/"
        },
        "id": "H0g6nSzH4FZL",
        "outputId": "ef23ce12-9929-4be8-adae-93c8380d2776"
      },
      "execution_count": 13,
      "outputs": [
        {
          "output_type": "execute_result",
          "data": {
            "text/plain": [
              "tensor(3, device='cuda:0')"
            ]
          },
          "metadata": {},
          "execution_count": 13
        }
      ]
    },
    {
      "cell_type": "markdown",
      "source": [],
      "metadata": {
        "id": "A4_ivqfY5EG7"
      }
    },
    {
      "cell_type": "code",
      "source": [
        "# Find the index of the minimum value in 'multi'\n",
        "min_index = torch.argmin(multi)\n",
        "\n",
        "# Convert the flat index to 2D indices (row, column) using unravel_index\n",
        "min_index_2d = torch.unravel_index(min_index, multi.shape)\n",
        "\n",
        "# Retrieve the item in 'multi' at the location of the minimum value\n",
        "min_value = multi[min_index_2d]\n",
        "\n",
        "min_value\n"
      ],
      "metadata": {
        "colab": {
          "base_uri": "https://localhost:8080/"
        },
        "id": "X7iPv1eA5Era",
        "outputId": "ba6ccf9a-b6fc-407d-ec87-fa4577156d6b"
      },
      "execution_count": 18,
      "outputs": [
        {
          "output_type": "execute_result",
          "data": {
            "text/plain": [
              "tensor(0.3647, device='cuda:0')"
            ]
          },
          "metadata": {},
          "execution_count": 18
        }
      ]
    },
    {
      "cell_type": "markdown",
      "source": [
        "Make a random tensor with shape (1, 1, 1, 10) and then create a new tensor with all the 1 dimensions removed to be left with a tensor of shape (10). Set the seed to 7 when you create it and print out the first tensor and it's shape as well as the second tensor and it's shape."
      ],
      "metadata": {
        "id": "_EQ7RqRy6AGD"
      }
    },
    {
      "cell_type": "code",
      "source": [
        "finalTensor = torch.rand(1,1,1,10)\n",
        "finalTensor , finalTensor.shape"
      ],
      "metadata": {
        "colab": {
          "base_uri": "https://localhost:8080/"
        },
        "id": "B-bEWote6B1x",
        "outputId": "c91ab6f2-798f-401c-d765-5678d0ddd166"
      },
      "execution_count": 20,
      "outputs": [
        {
          "output_type": "execute_result",
          "data": {
            "text/plain": [
              "(tensor([[[[0.2548, 0.6294, 0.9665, 0.7399, 0.4517, 0.4757, 0.7842, 0.1525,\n",
              "            0.6662, 0.3343]]]]),\n",
              " torch.Size([1, 1, 1, 10]))"
            ]
          },
          "metadata": {},
          "execution_count": 20
        }
      ]
    },
    {
      "cell_type": "code",
      "source": [
        "torch.manual_seed(7)\n",
        "squeezedTensor = finalTensor.squeeze()\n",
        "squeezedTensor , squeezedTensor.shape"
      ],
      "metadata": {
        "colab": {
          "base_uri": "https://localhost:8080/"
        },
        "id": "P2W-Sfr36Sk6",
        "outputId": "f0b86c47-97c0-4b49-e46c-fb3f16539f2f"
      },
      "execution_count": 21,
      "outputs": [
        {
          "output_type": "execute_result",
          "data": {
            "text/plain": [
              "(tensor([0.2548, 0.6294, 0.9665, 0.7399, 0.4517, 0.4757, 0.7842, 0.1525, 0.6662,\n",
              "         0.3343]),\n",
              " torch.Size([10]))"
            ]
          },
          "metadata": {},
          "execution_count": 21
        }
      ]
    },
    {
      "cell_type": "code",
      "source": [
        "finalTensor , finalTensor.shape , squeezedTensor , squeezedTensor.shape"
      ],
      "metadata": {
        "colab": {
          "base_uri": "https://localhost:8080/"
        },
        "id": "iVMMpH7X7CHE",
        "outputId": "8fbb7da6-bd32-48bb-d15d-3fed6f073d97"
      },
      "execution_count": 22,
      "outputs": [
        {
          "output_type": "execute_result",
          "data": {
            "text/plain": [
              "(tensor([[[[0.2548, 0.6294, 0.9665, 0.7399, 0.4517, 0.4757, 0.7842, 0.1525,\n",
              "            0.6662, 0.3343]]]]),\n",
              " torch.Size([1, 1, 1, 10]),\n",
              " tensor([0.2548, 0.6294, 0.9665, 0.7399, 0.4517, 0.4757, 0.7842, 0.1525, 0.6662,\n",
              "         0.3343]),\n",
              " torch.Size([10]))"
            ]
          },
          "metadata": {},
          "execution_count": 22
        }
      ]
    },
    {
      "cell_type": "code",
      "source": [
        "unsqueezedTensor = squeezedTensor.unsqueeze(dim=0)\n",
        "unsqueezedTensor , unsqueezedTensor.shape"
      ],
      "metadata": {
        "colab": {
          "base_uri": "https://localhost:8080/"
        },
        "id": "jMfV6gPp75nC",
        "outputId": "ace16b1a-c326-4be8-e36b-7d6ac66da193"
      },
      "execution_count": 23,
      "outputs": [
        {
          "output_type": "execute_result",
          "data": {
            "text/plain": [
              "(tensor([[0.2548, 0.6294, 0.9665, 0.7399, 0.4517, 0.4757, 0.7842, 0.1525, 0.6662,\n",
              "          0.3343]]),\n",
              " torch.Size([1, 10]))"
            ]
          },
          "metadata": {},
          "execution_count": 23
        }
      ]
    }
  ]
}